{
 "cells": [
  {
   "cell_type": "code",
   "execution_count": 1,
   "metadata": {},
   "outputs": [
    {
     "name": "stdout",
     "output_type": "stream",
     "text": [
      "Populating the interactive namespace from numpy and matplotlib\n"
     ]
    }
   ],
   "source": [
    "import numpy as np\n",
    "import matplotlib.pyplot as plt\n",
    "%pylab inline"
   ]
  },
  {
   "cell_type": "code",
   "execution_count": 2,
   "metadata": {},
   "outputs": [],
   "source": [
    "#Primero vemos la funcion\n",
    "a = 0.5\n",
    "\n",
    "def f(y):\n",
    "    return (a-1)*(y**4) + y**2 "
   ]
  },
  {
   "cell_type": "code",
   "execution_count": 3,
   "metadata": {},
   "outputs": [
    {
     "data": {
      "text/plain": [
       "[<matplotlib.lines.Line2D at 0x7f461a12e588>]"
      ]
     },
     "execution_count": 3,
     "metadata": {},
     "output_type": "execute_result"
    },
    {
     "data": {
      "image/png": "[encoded data removed]",
      "text/plain": [
       "<matplotlib.figure.Figure at 0x7f461a12e550>"
      ]
     },
     "metadata": {},
     "output_type": "display_data"
    }
   ],
   "source": [
    "#Graficar la funcion\n",
    "x = np.linspace(-4,4,100)\n",
    "plt.ylim(-30,5)\n",
    "plt.plot(x,f(x))"
   ]
  },
  {
   "cell_type": "code",
   "execution_count": 4,
   "metadata": {},
   "outputs": [],
   "source": [
    "#Metodo de biseccion\n",
    "def dx(f,x):\n",
    "    return abs(0-f(x))\n",
    "\n",
    "def bisec(f,a,b,tol,Nmax=500):\n",
    "    n = 0\n",
    "    \n",
    "    p = dx(f,b)\n",
    "\n",
    "    while True:\n",
    "        pm = (a+b)*0.5\n",
    "        print(pm)\n",
    "    \n",
    "        if f(pm) == 0 or abs(f(pm)) < tol:\n",
    "            print(\"la raíz es:\",pm,\"con iteracion de\",str(n))\n",
    "            break\n",
    "        \n",
    "        n += 1\n",
    "        \n",
    "        if n > Nmax:\n",
    "            print (\"Nmax iter max reached\")\n",
    "            break\n",
    "    \n",
    "        if f(a)*f(pm):\n",
    "            print(\"la raiz es:\",pm,\"con iteracion de\",str(n-1))\n",
    "            break"
   ]
  },
  {
   "cell_type": "code",
   "execution_count": 5,
   "metadata": {},
   "outputs": [],
   "source": [
    "#para el siguiente metodo necesitamos su derivada\n",
    "\n",
    "def df(y):\n",
    "    return 4*(y**3) + 2*y\n",
    "\n",
    "#Metodo de Newton-Raphson\n",
    "\n",
    "def newtonR(f,df,x0,tol,Nmax=500):\n",
    "    \n",
    "    p = dx(f,x0)\n",
    "    \n",
    "    n = 0\n",
    "    while True:\n",
    "        \n",
    "        x0 = x0 - (f(x0))/(df(x0))\n",
    "        #p = dx(f,x0)\n",
    "        if n > Nmax:\n",
    "            print (\"Nmax iter max reached\")\n",
    "            break\n",
    "        n += 1\n",
    "        if abs(f(x0)) < tol:\n",
    "            break\n",
    "    \n",
    "    return x0"
   ]
  },
  {
   "cell_type": "code",
   "execution_count": 6,
   "metadata": {},
   "outputs": [],
   "source": [
    "#Metodo de la secante\n",
    "def sec(f,x0,x1,tol,Nmax=500):\n",
    "    \n",
    "    n = 0\n",
    "    \n",
    "    p = dx(f,x1)\n",
    "    \n",
    "    while True:\n",
    "        \n",
    "        xi = x1 - f(x1)*((x1-x0)/(f(x1)-f(x0)))\n",
    "        \n",
    "        if n > Nmax:\n",
    "            print(\"Nmax iter reached\")\n",
    "            break\n",
    "        \n",
    "        n += 1\n",
    "        \n",
    "        if abs(f(xi)) < tol:\n",
    "            break\n",
    "            \n",
    "    return xi"
   ]
  },
  {
   "cell_type": "code",
   "execution_count": 7,
   "metadata": {},
   "outputs": [],
   "source": [
    "def MetRectFalsa(f,x0,x1,tol,Nmax=500):\n",
    "    n = 0\n",
    "    \n",
    "    p = dx(f,x1)\n",
    "    while True:\n",
    "        \n",
    "        xr = x1 - (f(x1)*(x0-x1))/(f(x0)-f(x1))\n",
    "        \n",
    "        if n > Nmax:\n",
    "            print(\"Nmax iter reached\")\n",
    "            break\n",
    "            \n",
    "        n +=1\n",
    "        \n",
    "        if abs(f(xr)) < tol:\n",
    "            break\n",
    "            \n",
    "        if f(xr)*f(x1) > 0:\n",
    "            print(\"La raíz esta en el intervalo\",[xr,x0])\n",
    "            break\n",
    "            \n",
    "        if f(xr)*f(x1) < 0:\n",
    "            print (\"la raíz esta en el intervalo\",[x0,xr])\n",
    "            break\n",
    "            \n",
    "        if f(xr)*f(x1) == 0:\n",
    "            print (\"la raíz es\",x1)\n",
    "            break\n",
    "            \n",
    "    return xr"
   ]
  },
  {
   "cell_type": "markdown",
   "metadata": {},
   "source": [
    "siendo -1 y 0.5 los intervalos que yo veo que se acercan mas al cero"
   ]
  },
  {
   "cell_type": "code",
   "execution_count": 8,
   "metadata": {},
   "outputs": [
    {
     "name": "stdout",
     "output_type": "stream",
     "text": [
      "-0.25\n",
      "la raiz es: -0.25 con iteracion de 0\n",
      "biseccion None\n"
     ]
    }
   ],
   "source": [
    "#Las soluciones de cada uno de los metodos\n",
    "print(\"biseccion\",bisec(f,-1,0.5,1e-4))"
   ]
  },
  {
   "cell_type": "code",
   "execution_count": 9,
   "metadata": {},
   "outputs": [
    {
     "name": "stdout",
     "output_type": "stream",
     "text": [
      "Newton -0.005611387809858877\n"
     ]
    }
   ],
   "source": [
    "print(\"Newton\",newtonR(f,df,-1,1e-4))"
   ]
  },
  {
   "cell_type": "code",
   "execution_count": 10,
   "metadata": {},
   "outputs": [
    {
     "name": "stdout",
     "output_type": "stream",
     "text": [
      "Nmax iter reached\n",
      "secante 1.6666666666666665\n"
     ]
    }
   ],
   "source": [
    "print(\"secante\",sec(f,-1,0.5,1e-4))"
   ]
  },
  {
   "cell_type": "code",
   "execution_count": 11,
   "metadata": {},
   "outputs": [
    {
     "name": "stdout",
     "output_type": "stream",
     "text": [
      "la raíz esta en el intervalo [-1, 1.6666666666666667]\n",
      "Recta falsa 1.6666666666666667\n"
     ]
    }
   ],
   "source": [
    "print(\"Recta falsa\",MetRectFalsa(f,-1,0.5,1e-4))"
   ]
  },
  {
   "cell_type": "code",
   "execution_count": null,
   "metadata": {},
   "outputs": [],
   "source": []
  }
 ],
 "metadata": {
  "kernelspec": {
   "display_name": "Python 3",
   "language": "python",
   "name": "python3"
  },
  "language_info": {
   "codemirror_mode": {
    "name": "ipython",
    "version": 3
   },
   "file_extension": ".py",
   "mimetype": "text/x-python",
   "name": "python",
   "nbconvert_exporter": "python",
   "pygments_lexer": "ipython3",
   "version": "3.6.4"
  }
 },
 "nbformat": 4,
 "nbformat_minor": 2
}
